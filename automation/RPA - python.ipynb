{
 "cells": [
  {
   "cell_type": "markdown",
   "id": "ce1ce23d",
   "metadata": {},
   "source": [
    "# RPA -  Python\n",
    "\n",
    "A demo of a simple notebook that fires automatic e-mails after downloading and processing an Excel file from google drive.\n",
    "It uses pyautogui (https://pyautogui.readthedocs.io/en/latest/) and pandas (https://pandas.pydata.org/)\n",
    "for command inputs and data handling, respectively. \n",
    "\n",
    "For the demo you can set the parameters interactively:\n",
    "  \n",
    "    - google drive directory link\n",
    "    - receiver of the e-mail\n",
    "    - e-mail text template (if not specified uses the default from the repo)\n",
    "    - columns of the excel file for processing \n",
    "    \n",
    "    \n",
    "Also, it is important to note that, the tool assumes you have your browser open, and you have access to the specified folder.\n"
   ]
  },
  {
   "cell_type": "markdown",
   "id": "1617046b",
   "metadata": {},
   "source": [
    "# Config \n",
    "\n"
   ]
  },
  {
   "cell_type": "code",
   "execution_count": 44,
   "id": "6140c20b",
   "metadata": {},
   "outputs": [],
   "source": [
    "import os.path\n",
    "import time\n",
    "\n",
    "template_email_path = './resource/template.txt'\n",
    "\n",
    "\n",
    "# validation\n",
    "if(not(template_email_path)):\n",
    "    raise Exception('Template path invalid, please verify')\n",
    "\n",
    "# app-info\n",
    "your_name = 'Mateus'\n",
    "directory_link_default = 'https://drive.google.com/drive/folders/1yShrodfbIuSqfb4A60yoJj9dumeI1nZt?usp=sharing'\n",
    "receivers = ['email1@email.com', 'email2@email.com', 'email3@email.com'] # set-up more e-mails puting and overwrite those for the ones you want\n",
    "columns = ['Valor Unitário', 'Valor Final'] # you can also set-up more columns or overwrite those\n",
    "\n",
    "# location of the image of buttons that program should press\n",
    "folder_image_path = './resource/folder-name.png' \n",
    "download_image_path1 = './resource/download1.png' \n",
    "download_image_path2 = './resource/download2.png'\n",
    "download_image_path3 = './resource/download3.png'\n",
    "compose_image_path = './resource/compose.png' \n",
    "\n",
    "#dict to cache the locations\n",
    "locations ={ \n",
    "    \"folder\": { \n",
    "        \"pos\" : None\n",
    "    }, \n",
    "    \"download1\" : {\n",
    "        \"pos\" : None\n",
    "    }, \n",
    "    \"download2\" : {\n",
    "        \"pos\" : None\n",
    "    }, \n",
    "    \"compose\" : {\n",
    "        \"pos\" : None\n",
    "    } \n",
    "} \n",
    "\n",
    "# cache in a local file the button locations if those are not found\n",
    "def cacheLocations(location, BUTTON_ID):\n",
    "    f = None\n",
    "    if(os.path.isfile('./resource/locations')):\n",
    "        f = open('./resource/locations', 'w')     \n",
    "    else:\n",
    "        f = open('./resource/locations', 'a')\n",
    "    f.write(BUTTON_ID)\n",
    "    #f.write(location)\n",
    "    f.close()\n",
    "        \n",
    "    \n",
    "# locate button handler\n",
    "def locateButton(imagePath, BUTTON_ID):\n",
    "    location = None\n",
    "    try:\n",
    "        if(os.path.isfile(imagePath)):\n",
    "            location = pyautogui.locateOnScreen(imagePath)\n",
    "            if(location == None):\n",
    "                raise Exception()\n",
    "            else:\n",
    "                return location\n",
    "        else:\n",
    "            raise Exception()\n",
    "    except:\n",
    "        pyautogui.alert('Unable to auto-locate the button, please click on the ok button and put the mouse over the the correct spot for 10 seconds the screen.\\nThe location will be saved for the next interactions')\n",
    "        time.sleep(10)\n",
    "        location = pyautogui.position()\n",
    "        #cacheLocations(location, BUTTON_ID)\n",
    "        return location"
   ]
  },
  {
   "cell_type": "markdown",
   "id": "93358366",
   "metadata": {},
   "source": [
    "# 1 :  Detecting buttons and opening drive directory "
   ]
  },
  {
   "cell_type": "code",
   "execution_count": 38,
   "id": "8553e083",
   "metadata": {},
   "outputs": [],
   "source": [
    "import pyautogui\n",
    "import pyperclip\n",
    "\n",
    "# delay config\n",
    "pyautogui.PAUSE = 1\n",
    "\n",
    "pyautogui.hotkey('ctrl', 't')\n",
    "pyperclip.copy(directory_link_default)\n",
    "pyautogui.hotkey('ctrl', 'v')\n",
    "pyautogui.press('enter')\n",
    "\n",
    "time.sleep(5)\n",
    "button_positionX, button_positionY  = locateButton(folder_image_path, 'FOLDER_BUTTON')\n",
    "pyautogui.click(x=button_positionX, y=button_positionY, clicks=2)\n"
   ]
  },
  {
   "cell_type": "markdown",
   "id": "b397cdc8",
   "metadata": {},
   "source": [
    "# 2 :  Detecting button and downloading file"
   ]
  },
  {
   "cell_type": "code",
   "execution_count": 41,
   "id": "bdcfd907",
   "metadata": {},
   "outputs": [],
   "source": [
    "time.sleep(2)\n",
    "#d1_positionX, d1_positionY  = locateButton(folder_image_path, 'DOWNLOAD1')\n",
    "d1_positionX, d1_positionY  = 452, 355\n",
    "pyautogui.click(x=d1_positionX, y=d1_positionY)\n",
    "\n",
    "#d2_positionX, d2_positionY  = locateButton(folder_image_path, 'DOWNLOAD2')\n",
    "d2_positionX, d2_positionY  = 1161, 185\n",
    "pyautogui.click(x=d2_positionX, y=d2_positionY)\n",
    "\n",
    "#d3_positionX, d3_positionY  = locateButton(folder_image_path, 'DOWNLOAD3')\n",
    "d3_positionX, d3_positionY  = 1057, 583\n",
    "pyautogui.click(x=d3_positionX, y=d3_positionY)\n",
    "\n",
    "time.sleep(10)\n",
    "\n",
    "pyautogui.press('enter')\n",
    "pyautogui.press('enter')"
   ]
  },
  {
   "cell_type": "markdown",
   "id": "838c85d7",
   "metadata": {},
   "source": [
    "# 3 :  Data Manipulation "
   ]
  },
  {
   "cell_type": "code",
   "execution_count": 42,
   "id": "baea7250",
   "metadata": {},
   "outputs": [],
   "source": [
    "import pandas\n",
    "\n",
    "# TODO: prev step should choose directory\n",
    "data_frame = pandas.read_excel(r\"C:\\Users\\mateu\\Downloads\\Vendas - Dez.xlsx\")\n",
    "results = []\n",
    "\n",
    "results = [data_frame[column].sum() for column in columns ]    \n"
   ]
  },
  {
   "cell_type": "markdown",
   "id": "e0327982",
   "metadata": {},
   "source": [
    "# 4 :  Formating the E-mail Template"
   ]
  },
  {
   "cell_type": "code",
   "execution_count": 45,
   "id": "eebc509e",
   "metadata": {},
   "outputs": [],
   "source": [
    "template_msg_file = open(template_email_path, 'r')\n",
    "subject = ''\n",
    "msg = ''\n",
    "\n",
    "counter = 0\n",
    "for line in template_msg_file:\n",
    "    if(counter > 1):\n",
    "        msg += line\n",
    "    elif(counter == 0):\n",
    "        subject = line[:-1]\n",
    "    counter+= 1"
   ]
  },
  {
   "cell_type": "markdown",
   "id": "481ad16e",
   "metadata": {},
   "source": [
    "# 5 :  Sending the E-mail"
   ]
  },
  {
   "cell_type": "code",
   "execution_count": null,
   "id": "87cc8350",
   "metadata": {},
   "outputs": [],
   "source": [
    "pyautogui.hotkey('ctrl', 't')\n",
    "pyperclip.copy('https://mail.google.com/mail/u/0/')\n",
    "pyautogui.hotkey('ctrl', 'v')\n",
    "pyautogui.press('enter')\n",
    "time.sleep(5)    \n",
    "    \n",
    "final_msg = msg.format(faturamento=results[1], qtdProd=results[0], yourName=your_name)\n",
    "\n",
    "compose_positionX, compose_positionY  = 144, 188\n",
    "pyautogui.click(x=compose_positionX, y=compose_positionY)\n",
    "\n",
    "for receiver in receivers:\n",
    "    pyautogui.write(receiver)\n",
    "    pyautogui.write(' ')\n",
    "    if(len(receivers) == 1):\n",
    "        pyautogui.press('tab')\n",
    "        \n",
    "\n",
    "pyautogui.press('tab')\n",
    "pyperclip.copy(subject)\n",
    "pyautogui.hotkey('ctrl', 'v')\n",
    "\n",
    "pyautogui.press('tab')\n",
    "pyperclip.copy(final_msg)\n",
    "pyautogui.hotkey('ctrl', 'v')\n",
    "pyautogui.hotkey('ctrl', 'enter')"
   ]
  },
  {
   "cell_type": "code",
   "execution_count": 31,
   "id": "2556aa44",
   "metadata": {},
   "outputs": [
    {
     "data": {
      "text/plain": [
       "Point(x=336, y=429)"
      ]
     },
     "execution_count": 31,
     "metadata": {},
     "output_type": "execute_result"
    }
   ],
   "source": [
    "# while the handler is not complete \n",
    "time.sleep(10)\n",
    "pyautogui.position()"
   ]
  },
  {
   "cell_type": "code",
   "execution_count": null,
   "id": "b449c459",
   "metadata": {},
   "outputs": [],
   "source": []
  }
 ],
 "metadata": {
  "kernelspec": {
   "display_name": "Python 3",
   "language": "python",
   "name": "python3"
  },
  "language_info": {
   "codemirror_mode": {
    "name": "ipython",
    "version": 3
   },
   "file_extension": ".py",
   "mimetype": "text/x-python",
   "name": "python",
   "nbconvert_exporter": "python",
   "pygments_lexer": "ipython3",
   "version": "3.8.8"
  }
 },
 "nbformat": 4,
 "nbformat_minor": 5
}
